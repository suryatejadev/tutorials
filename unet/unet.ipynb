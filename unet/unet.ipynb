{
 "cells": [
  {
   "cell_type": "markdown",
   "metadata": {},
   "source": [
    "##### UNet Implementation\n",
    "\n",
    "UNet is one of the most widely used models for image segmentation. It was introduced by [Ronneberger et al](https://arxiv.org/abs/1505.04597) in **MICCAI 2015**, and it won the ISBI 2015 competition.  \n",
    "In this notebook, I create a "
   ]
  }
 ],
 "metadata": {
  "kernelspec": {
   "display_name": "Python 2",
   "language": "python",
   "name": "python2"
  },
  "language_info": {
   "codemirror_mode": {
    "name": "ipython",
    "version": 2
   },
   "file_extension": ".py",
   "mimetype": "text/x-python",
   "name": "python",
   "nbconvert_exporter": "python",
   "pygments_lexer": "ipython2",
   "version": "2.7.14"
  }
 },
 "nbformat": 4,
 "nbformat_minor": 2
}
