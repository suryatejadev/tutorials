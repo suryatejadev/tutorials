{
 "cells": [
  {
   "cell_type": "markdown",
   "metadata": {},
   "source": [
    "### Dynamic Programming\n",
    "\n",
    "#### Properties:  \n",
    "- **Overlapping subproblem:** Solutions of subproblems can be used to calculate the final solution.  \n",
    "**Example**: Fibonacci(2) = Fibonacci(1) + Fibonnaci(0).  \n",
    "- **Optimal sub structure:** If optimal solution of a problem can be obtained using optimal solutions of its subproblems.  \n",
    "**Example**: If y is in the shortest path from x to z, then shortest_path(x,z) = shortest_path(x,y)+shortest_path(y,z).  \n",
    "**Negative example**: Longest path doesnot have optimal substructure. For a square ABCD, longest path from A to C is not sum of longest paths from A to B and B to c.  \n",
    "\n",
    "#### 2 Ways of storing values:  \n",
    "- **Memoization (top down):** create a lookup table with all NULL values. For every sub problem, lookup if it has a value. If the value is NULL, calculate it, else just use it.  \n",
    "- **Tabulation (bottom up):** Start from the smallest sub problem and calculating all the values building up.  \n",
    "- Memoization doesn't need to calculate and store values of all sub problems.  \n",
    "\n",
    "#### Advantage over Recursion: Recursion doesnot reuse the previously calculated values.  "
   ]
  },
  {
   "cell_type": "code",
   "execution_count": 4,
   "metadata": {},
   "outputs": [
    {
     "name": "stdout",
     "output_type": "stream",
     "text": [
      "Using memoization:  6765\n",
      "Using tabulation:  6765\n"
     ]
    }
   ],
   "source": [
    "# Example with Fibonacci\n",
    "def fib_memoization(n, lookup):\n",
    "    if n<=1:\n",
    "        lookup[n] = n\n",
    "    if lookup[n]==None:\n",
    "        lookup[n] = fib(n-1, lookup)+ fib(n-2, lookup)\n",
    "    return lookup[n]\n",
    "\n",
    "def fib_tabulation(n):\n",
    "    lookup = [0]*(n+1)\n",
    "    lookup[1] = 1\n",
    "    for i in range(2, n+1):\n",
    "        lookup[i] = lookup[i-1] + lookup[i-2]\n",
    "    return lookup[-1]\n",
    "\n",
    "n = 20\n",
    "lookup = [None]*50\n",
    "print('Using memoization: ', fib_memoization(n, lookup))\n",
    "print('Using tabulation: ', fib_tabulation(n))"
   ]
  },
  {
   "cell_type": "code",
   "execution_count": 12,
   "metadata": {},
   "outputs": [
    {
     "name": "stdout",
     "output_type": "stream",
     "text": [
      "4\n"
     ]
    }
   ],
   "source": [
    "# Problem 1: Longest Increasing subsequence\n",
    "# input = {10, 22, 9, 33, 21, 50, 41, 60, 80}\n",
    "# LIS = {10, 22, 33, 50, 60, 80}\n",
    "# output = 6\n",
    "# complexity = O(n^2) (n for recursion, n for finding max)\n",
    "import numpy as np\n",
    "\n",
    "# def LIS(seq, lookup):\n",
    "#     n = len(seq)\n",
    "#     if(n==0 or n==1):\n",
    "#         lookup[n] = n\n",
    "#     if lookup[n]==None:\n",
    "#         if seq[-2]>=seq[-1]:\n",
    "#             lookup[n] = LIS(seq[:-1], lookup)\n",
    "#         else:\n",
    "#             lookup[n] = max(LIS(seq[:-1], lookup)+1, LIS(seq[:-2], lookup))\n",
    "#     return lookup[n]\n",
    "def LIS(seq, lookup):\n",
    "    n = len(seq)\n",
    "    if(n==0 or n==1):\n",
    "        lookup[n] = n\n",
    "    if lookup[n]==None:\n",
    "        if seq[-2]>=seq[-1]:\n",
    "            x = max(LIS(seq[:-2], lookup)+1, x)\n",
    "        else:\n",
    "        \n",
    "        lookup[n] = max(LIS(seq[:-1], lookup), x)\n",
    "        \n",
    "        if seq[-2]>=seq[-1]:\n",
    "            lookup[n] = LIS(seq[:-1], lookup)\n",
    "        else:\n",
    "            lookup[n] = max(LIS(seq[:-1], lookup)+1, LIS(seq[:-2], lookup))\n",
    "    return lookup[n]\n",
    "\n",
    "#seq = [10, 22, 9, 33, 21, 50, 41, 60, 80]\n",
    "seq = [4,10,4,3,8,9]\n",
    "lookup = [None]*(len(seq)+1)\n",
    "print(LIS(seq, lookup))"
   ]
  },
  {
   "cell_type": "code",
   "execution_count": 19,
   "metadata": {},
   "outputs": [
    {
     "name": "stdout",
     "output_type": "stream",
     "text": [
      "3\n"
     ]
    }
   ],
   "source": [
    "# Problem 2: Longest common subsequence\n",
    "# input: “ABCDGH”, “AEDFHR”\n",
    "# LCS: “ADH”\n",
    "# output: 3\n",
    "# complexity: O(mn)\n",
    "import numpy as np\n",
    "\n",
    "def LCS(a1, a2):\n",
    "    if(len(a1)==0 or len(a2)==0):\n",
    "        lcs = 0\n",
    "    else:\n",
    "        # If last letters are same, LCS = 1 + LCS(arrays removing last letter)\n",
    "        if a1[-1]==a2[-1]:\n",
    "            lcs = LCS(a1[:-1], a2[:-1]) + 1\n",
    "        # else, LCS = max(remove last letter of either arrays)\n",
    "        else:\n",
    "            lcs = np.max((LCS(a1[:-1], a2), LCS(a1, a2[:-1])))\n",
    "    return lcs\n",
    "\n",
    "a1 = 'ABCDGH'\n",
    "a2 = 'AEDFHR'\n",
    "print(LCS(a1,a2))"
   ]
  },
  {
   "cell_type": "code",
   "execution_count": 15,
   "metadata": {},
   "outputs": [
    {
     "name": "stdout",
     "output_type": "stream",
     "text": [
      "3.0\n"
     ]
    }
   ],
   "source": [
    "# Problem 3: Edit Distance\n",
    "# input: str1 = 'sunday', str2 = 'saturday'\n",
    "# output: convert str1 to str2 using min operations\n",
    "# of insert, delete, replace\n",
    "import numpy as np\n",
    "\n",
    "def edit_dist(str1, str2, m, n):\n",
    "    dp = np.zeros((m+1,n+1))\n",
    "    for i in range(m+1):\n",
    "        for j in range(n+1):\n",
    "            if i==0:\n",
    "                dp[i,j] = j\n",
    "            elif j==0:\n",
    "                dp[i,j] = i\n",
    "            elif str1[i-1]==str2[j-1]:\n",
    "                dp[i,j] = dp[i-1, j-1]\n",
    "            else:\n",
    "                dp[i, j] = 1+min(dp[i-1,j], dp[i,j-1], dp[i-1,j-1])\n",
    "    return dp[m,n]                                        \n",
    "    \n",
    "str1 = 'sunday'\n",
    "str2 = 'saturday'\n",
    "print(edit_dist(str1, str2, len(str1), len(str2)))"
   ]
  },
  {
   "cell_type": "code",
   "execution_count": 20,
   "metadata": {},
   "outputs": [
    {
     "name": "stdout",
     "output_type": "stream",
     "text": [
      "8\n"
     ]
    }
   ],
   "source": [
    "# Problem 4: Min Cost Path \n",
    "def min_cost_path(cost, x, y, lookup):\n",
    "    if(x==-1 or y==-1):\n",
    "        return 100\n",
    "    if lookup[x,y]==-1:    \n",
    "        lookup[x,y] = cost[x,y]+ min(min_cost_path(cost, x-1, y, lookup),\n",
    "                          min_cost_path(cost, x, y-1, lookup), \n",
    "                          min_cost_path(cost, x-1, y-1, lookup))\n",
    "    return lookup[x,y]\n",
    "\n",
    "cost_table = np.array(([1,2,3],\n",
    "                       [4,8,2],\n",
    "                      [1,5,3]))\n",
    "lookup_table = np.zeros_like(cost_table)-1\n",
    "lookup_table[0,0] = cost_table[0,0]\n",
    "x=2; y=2\n",
    "print(min_cost_path(cost_table, x, y, lookup_table))"
   ]
  },
  {
   "cell_type": "code",
   "execution_count": 28,
   "metadata": {},
   "outputs": [
    {
     "name": "stdout",
     "output_type": "stream",
     "text": [
      "4.0\n"
     ]
    }
   ],
   "source": [
    "# Problem 5: Coin change\n",
    "import numpy as np\n",
    "\n",
    "def count(S, m, n):\n",
    "    # Lookup table\n",
    "    # For table[i,j], n=i and S=S[:j]\n",
    "    table = np.zeros((n+1, m))\n",
    "    # Initialize for n=0\n",
    "    table[0,:] = 1\n",
    "    for i in range(1, n+1):\n",
    "        for j in range(m):\n",
    "            # Include S[j] \n",
    "            x = table[i-S[j], j] if i-S[j]>=0 else 0\n",
    "            # Exclude S[j]\n",
    "            y = table[i, j-1] if j>=1 else 0\n",
    "            # Total\n",
    "            table[i,j] = x+y\n",
    "    return table[n,m-1]\n",
    "\n",
    "n = 4\n",
    "S = [1,2,3]\n",
    "m = len(S)\n",
    "print(count(S, m, n))"
   ]
  },
  {
   "cell_type": "code",
   "execution_count": 19,
   "metadata": {},
   "outputs": [
    {
     "name": "stdout",
     "output_type": "stream",
     "text": [
      "30000\n"
     ]
    }
   ],
   "source": [
    "# Matrix Multiplication\n",
    "import numpy as np\n",
    "MAX_VAL = np.iinfo(np.int64).max\n",
    "\n",
    "def matmult_ops(a):\n",
    "    N = len(a)\n",
    "    lut = np.zeros((N-1, N-1)).astype(int)\n",
    "    for c in range(1, N-1):\n",
    "        for r in range(c-1, -1, -1):\n",
    "            minops = MAX_VAL\n",
    "            for i in range(r, c):\n",
    "                x = lut[r,i] + lut[i+1,c]\n",
    "                y = a[r]*a[i+1]*a[c+1]\n",
    "                minops = min(minops, x+y)\n",
    "            lut[r,c] = minops\n",
    "    return lut[0,N-2]\n",
    "\n",
    "#a = [4, 2, 3, 1, 3]\n",
    "a = [10, 20, 30, 40, 30]\n",
    "print(matmult_ops(a))"
   ]
  },
  {
   "cell_type": "code",
   "execution_count": 4,
   "metadata": {},
   "outputs": [
    {
     "name": "stdout",
     "output_type": "stream",
     "text": [
      "9223372036854775807\n"
     ]
    }
   ],
   "source": [
    "import numpy as np\n",
    "a = np.zeros((3,3)).astype(int)\n",
    "print(np.iinfo(np.int64).max)"
   ]
  },
  {
   "cell_type": "code",
   "execution_count": 16,
   "metadata": {},
   "outputs": [
    {
     "name": "stdout",
     "output_type": "stream",
     "text": [
      "220\n"
     ]
    }
   ],
   "source": [
    "# Knapsack Problem\n",
    "import numpy as np\n",
    "\n",
    "def maxval(wt, val, W, lookup):\n",
    "    if sum(wt)<=W:\n",
    "        if lookup[len(wt)-1] == -1:\n",
    "            lookup[len(wt)-1] = sum(wt)\n",
    "        return lookup[len(wt)-1]\n",
    "    if len(wt)==1:\n",
    "        return 0\n",
    "    return max(maxval(wt[:-1], val[:-1], W, lookup), \n",
    "               maxval(wt[:-1], val[:-1], W-wt[-1], lookup)+val[-1])\n",
    "\n",
    "wt = [10,20,30]\n",
    "val = [60,100,120]\n",
    "W = 50\n",
    "# Lookup to store sum of all weights in the list\n",
    "# Initialize all values to -1, except the 1st (to 0)\n",
    "\n",
    "lookup = np.zeros((len(wt)))\n",
    "lookup[1:] = -1\n",
    "print(maxval(wt, val, W, lookup))"
   ]
  },
  {
   "cell_type": "code",
   "execution_count": 31,
   "metadata": {},
   "outputs": [
    {
     "name": "stdout",
     "output_type": "stream",
     "text": [
      "8.0\n"
     ]
    }
   ],
   "source": [
    "# Egg dropping problem\n",
    "import numpy as np\n",
    "\n",
    "def minTrials(N, K):\n",
    "    lut = np.zeros((N,K+1))\n",
    "    for i in range(K+1):\n",
    "        lut[0,i] = i\n",
    "    for i in range(1, N):\n",
    "        lut[i,0] = 0\n",
    "        lut[i,1] = 1\n",
    "    for n in range(1, N):\n",
    "        for k in range(2, K+1):\n",
    "            for x in range(1, k+1):\n",
    "                val = max(lut[n-1, x-1], lut[n, k-x])+1\n",
    "                if x==1:\n",
    "                    lut[n,k] = val\n",
    "                else:\n",
    "                    lut[n,k] = min(val, lut[n,k])\n",
    "    return lut[N-1,K]\n",
    "\n",
    "n = 2\n",
    "k = 36\n",
    "print(minTrials(n, k))"
   ]
  },
  {
   "cell_type": "code",
   "execution_count": 56,
   "metadata": {},
   "outputs": [
    {
     "name": "stdout",
     "output_type": "stream",
     "text": [
      "1.0\n"
     ]
    }
   ],
   "source": [
    "# Longest Increasing Subsequence\n",
    "import numpy as np\n",
    "\n",
    "def LIS(a, l, r, lut):\n",
    "    if lut[l,r]==-1:\n",
    "        if(l==r-1 and a[l]==a[r]):\n",
    "            lut[l, r] = 2\n",
    "        elif l==r:\n",
    "            lut[l, r] = 1\n",
    "        elif l>r:\n",
    "            lut[l, r] = 0\n",
    "        else:\n",
    "            x = LIS(a, l, r-1, lut)\n",
    "            flag=0\n",
    "            for i, char in enumerate(a[l:r]):\n",
    "                if char==a[r]:\n",
    "                    flag=1\n",
    "                    break\n",
    "            y1 = LIS(a, l+i+1, r, lut)\n",
    "            if flag==1:\n",
    "                y2 = LIS(a, l+i+1, r-1, lut) + 2\n",
    "            else:\n",
    "                y2 = 0\n",
    "            lut[l, r] = max(x, y1, y2)           \n",
    "    return lut[l, r]\n",
    "    \n",
    "#a = 'bbabcbcab'\n",
    "#a = 'geeksforgeeks'\n",
    "a = 'ab'\n",
    "N = len(a)\n",
    "lut = np.zeros((N,N))-1\n",
    "print(LIS(a, 0, N-1, lut))"
   ]
  },
  {
   "cell_type": "code",
   "execution_count": 61,
   "metadata": {},
   "outputs": [
    {
     "name": "stdout",
     "output_type": "stream",
     "text": [
      "2.0\n"
     ]
    }
   ],
   "source": [
    "# Longest Increasing Subsequence\n",
    "import numpy as np\n",
    "\n",
    "def LIS(a, l, r, lut):\n",
    "    if lut[l,r]==-1:\n",
    "        if(l==r-1 and a[l]==a[r]):\n",
    "            lut[l, r] = 2\n",
    "        elif l==r:\n",
    "            lut[l, r] = 1\n",
    "        elif l>r:\n",
    "            lut[l, r] = 0\n",
    "        else:\n",
    "            x = LIS(a, l, r-1, lut)\n",
    "            if a[l]!=a[r]:\n",
    "                y = LIS(a, l+1, r, lut)\n",
    "            else:\n",
    "                y = LIS(a, l+1, r-1, lut) + 2\n",
    "            lut[l, r] = max(x, y)         \n",
    "    return lut[l, r]\n",
    "    \n",
    "#a = 'bbabcbcab'\n",
    "#a = 'geeksforgeeks'\n",
    "a = 'cbb'\n",
    "N = len(a)\n",
    "lut = np.zeros((N,N))-1\n",
    "print(LIS(a, 0, N-1, lut))"
   ]
  },
  {
   "cell_type": "code",
   "execution_count": 6,
   "metadata": {},
   "outputs": [
    {
     "name": "stdout",
     "output_type": "stream",
     "text": [
      "[[ 0.  0.  0.  0.  0.  0.  0.  0.  0.]\n",
      " [ 0.  1.  5.  8.  9. 10. 17. 17. 20.]\n",
      " [ 0.  2.  5.  8.  9. 10. 17. 17. 20.]\n",
      " [ 0.  6.  6.  8.  9. 10. 17. 17. 20.]\n",
      " [ 0.  9. 10. 10. 10. 10. 17. 17. 20.]\n",
      " [ 0. 11. 13. 13. 13. 13. 17. 17. 20.]\n",
      " [ 0. 14. 15. 16. 16. 16. 17. 17. 20.]\n",
      " [ 0. 18. 18. 18. 18. 18. 18. 18. 20.]\n",
      " [ 0. 19. 22. 22. 22. 22. 22. 22. 22.]]\n",
      "22.0\n"
     ]
    }
   ],
   "source": [
    "# Cutting a rod\n",
    "import numpy as np\n",
    "def maxval(vals):\n",
    "    N = len(vals)\n",
    "    lut = np.zeros((N+1,N+1))\n",
    "    for i in range(1, N+1):\n",
    "        for j in range(1, N+1):\n",
    "            lut[i,j] = max(lut[i,j-1], lut[i-j,i-j] + vals[j-1])\n",
    "    print(lut)\n",
    "    return lut[N, N]\n",
    "\n",
    "vals = [1, 5, 8, 9, 10, 17, 17, 20]\n",
    "print(maxval(vals))"
   ]
  }
 ],
 "metadata": {
  "kernelspec": {
   "display_name": "Python 3",
   "language": "python",
   "name": "python3"
  },
  "language_info": {
   "codemirror_mode": {
    "name": "ipython",
    "version": 3
   },
   "file_extension": ".py",
   "mimetype": "text/x-python",
   "name": "python",
   "nbconvert_exporter": "python",
   "pygments_lexer": "ipython3",
   "version": "3.5.5"
  }
 },
 "nbformat": 4,
 "nbformat_minor": 2
}
