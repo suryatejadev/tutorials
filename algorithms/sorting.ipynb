{
 "cells": [
  {
   "cell_type": "markdown",
   "metadata": {},
   "source": [
    "# Sorting\n"
   ]
  },
  {
   "cell_type": "code",
   "execution_count": 2,
   "metadata": {},
   "outputs": [],
   "source": [
    "import numpy as np\n",
    "from time import time"
   ]
  },
  {
   "cell_type": "markdown",
   "metadata": {},
   "source": [
    "## 1. Merge Sort\n",
    "\n",
    "- Divide and Conquer Algorithm  \n",
    "- **Complexity** = $2T(n/2) + \\theta(n) = \\theta(n\\log n)$  \n",
    "- **Auxiliary Space** = O(N) extra space required  \n",
    "- **When to use** - Merge Sort is useful for sorting linked lists in O(nLogn) time.In case of linked lists the case is different mainly due to difference in memory allocation of arrays and linked lists. Unlike arrays, linked list nodes may not be adjacent in memory. Unlike array, in linked list, we can insert items in the middle in O(1) extra space and O(1) time. Therefore merge operation of merge sort can be implemented without extra space for linked lists. Unlike arrays, we can not do random access in linked list. Quick Sort requires a lot of this kind of access.  \n",
    "- **When not to use** -  When dealing with arrays as quick sort is more advantageous then.  \n",
    "```\n",
    "merge: merges arr[l:m] and arr[m+1:r]\n",
    "MergeSort(arr[], l,  r)\n",
    "If r > l\n",
    "     1. Find the middle point to divide the array into two halves:  \n",
    "             middle m = (l+r)/2\n",
    "     2. Call mergeSort for first half:   \n",
    "             Call mergeSort(arr, l, m)\n",
    "     3. Call mergeSort for second half:\n",
    "             Call mergeSort(arr, m+1, r)\n",
    "     4. Merge the two halves sorted in step 2 and 3:\n",
    "             Call merge(arr, l, m, r)\n",
    "```"
   ]
  },
  {
   "cell_type": "code",
   "execution_count": 50,
   "metadata": {},
   "outputs": [
    {
     "name": "stdout",
     "output_type": "stream",
     "text": [
      "Array:  [38 27 43  3  9 82 10]\n",
      "Sorted Array:  [ 3  9 10 27 38 43 82]\n",
      "Time taken =  0.0012962818145751953  sec\n"
     ]
    }
   ],
   "source": [
    "# Merge Sort\n",
    "def merge(arr, l, m, r):\n",
    "    L = arr[l:m+1].copy()\n",
    "    R = arr[m+1:r+1].copy()\n",
    "    i = 0; j = 0; k = l\n",
    "    while(i<m-l+1 and j<r-m):\n",
    "        if L[i]<R[j]:\n",
    "            arr[k] = L[i]; i += 1\n",
    "        else:\n",
    "            arr[k] = R[j]; j += 1\n",
    "        k += 1\n",
    "    if i<m-l+1:\n",
    "        arr[k:r+1] = L[i:]\n",
    "    if j<r-m:\n",
    "        arr[k:r] = R[j:]\n",
    "\n",
    "def mergeSort(arr, l, r):\n",
    "    if r>l:\n",
    "        m = np.floor(0.5*(l+r)).astype(int)\n",
    "        mergeSort(arr, l, m)\n",
    "        mergeSort(arr, m+1, r)\n",
    "        merge(arr, l, m, r)\n",
    "\n",
    "arr = np.array(([38, 27, 43, 3, 9, 82, 10]))\n",
    "print('Array: ', arr)\n",
    "t=time()\n",
    "mergeSort(arr, 0, len(arr)-1)\n",
    "print('Sorted Array: ',arr)\n",
    "print('Time taken = ',time()-t,' sec')"
   ]
  },
  {
   "cell_type": "markdown",
   "metadata": {},
   "source": [
    "## 2. Quick Sort\n",
    "\n",
    "- Divide and Conquer algorithm  \n",
    "- Any element can be pivot (CLRS: last element)  \n",
    "- Keep pivot in correct location in sorted array\n",
    "- **Complexity** :\n",
    "    - Worst case: Array is already sorted. $T(n) = T(n-1) + \\theta(n) = \\theta(n^2)$  \n",
    "    - Best case : Pivot is always middle element. $T(n) = 2T(n/2) + \\theta(n) = \\theta(n\\log n)$  \n",
    "- Auxiliary space: No extra space needed. In-place sorting.  \n",
    "- 3 way quicksort: 3 splits: arr with smaller elts, array with equal elts, array with larger elts.  \n",
    "- Further: Tail call optimization  \n",
    "- **When to use** :\n",
    "    - With arrays. It is in-place sort and has no extra space unlike merge sort (O(N)).  \n",
    "    - The randomized version has expected time complexity of O(nLogn). This works well in practice.  \n",
    "    - Cache friendly sorting algorithm as it has good locality of reference when used for arrays.  \n",
    "    - Its tail recursive, therefore tail call optimizations is done\n",
    "- **When not to use** - When sorting linked lists as the elements can only be accessed sequentially. Use merge sort here.  \n",
    "\n",
    "```\n",
    "/* low  --> Starting index,  high  --> Ending index */\n",
    "partition: This function takes last element as pivot, places the pivot element at its correct position in sorted array, and places all smaller (smaller than pivot) to left of pivot and all greater elements to right of pivot\n",
    "quickSort(arr[], low, high){\n",
    "    if (low < high){\n",
    "        /* pi is partitioning index, arr[pi] is now\n",
    "           at right place */\n",
    "        pi = partition(arr, low, high);\n",
    "\n",
    "        quickSort(arr, low, pi - 1);  // Before pi\n",
    "        quickSort(arr, pi + 1, high); // After pi\n",
    "    }\n",
    "}\n",
    "```"
   ]
  },
  {
   "cell_type": "code",
   "execution_count": 14,
   "metadata": {},
   "outputs": [
    {
     "name": "stdout",
     "output_type": "stream",
     "text": [
      "Array:  [38 27 43  3  9 82 10]\n",
      "low =  0  high =  6 [ 3  9 10 38 27 82 43]\n",
      "low =  0  high =  1 [ 3  9 10 38 27 82 43]\n",
      "low =  3  high =  6 [ 3  9 10 38 27 43 82]\n",
      "low =  3  high =  4 [ 3  9 10 27 38 43 82]\n",
      "Sorted Array:  [ 3  9 10 27 38 43 82]\n",
      "Time taken =  0.0028710365295410156  sec\n"
     ]
    }
   ],
   "source": [
    "# Quick Sort\n",
    "def partition(arr, low, high):\n",
    "    pivot_index = low\n",
    "    for i in range(low, high):\n",
    "        if arr[i] < arr[high]:\n",
    "            arr[i], arr[pivot_index] = arr[pivot_index], arr[i]\n",
    "            pivot_index += 1\n",
    "    arr[pivot_index], arr[high] = arr[high], arr[pivot_index]\n",
    "    return pivot_index\n",
    "\n",
    "def quickSort(arr, low, high):\n",
    "    if low<high:\n",
    "        pivot_index = partition(arr, low, high)\n",
    "        print('low = ',low, ' high = ',high, arr)\n",
    "        quickSort(arr, low, pivot_index-1)\n",
    "        quickSort(arr, pivot_index+1, high)\n",
    "\n",
    "arr = np.array(([38, 27, 43, 3, 9, 82, 10]))\n",
    "print('Array: ', arr)\n",
    "t=time()\n",
    "quickSort(arr, 0, len(arr)-1)\n",
    "print('Sorted Array: ',arr)\n",
    "print('Time taken = ',time()-t,' sec')"
   ]
  },
  {
   "cell_type": "markdown",
   "metadata": {},
   "source": [
    "## 3. Radix Sort\n",
    "\n",
    "1. Comparison based algos (merge, quick etc) best complexity is O(nlogn).  \n",
    "2. Radix can do O(n+k) if all elements $\\in [1,k]$.  \n",
    "3. Sorts 1s place digits, then 10s place digits, and so on using counting sort.  \n",
    "4. Counting Sort:  \n",
    "    - Find cummulative frequency (CF) of all unique numbers.  \n",
    "    - Iterate from last element to first. Keep each element in its CF value index in sorted array and decrease the CF value by 1.   \n",
    "    - Complexity= O(n+k), auxiliary space = O(n+k). k = largest element.  \n",
    "5. Complexity: \n",
    "    - Radix Sort takes O(d*(n+b)) time (b: base of numbers for ex 10, d: max number of digits, d=O(logb(max_value))).   \n",
    "    - Overall time complexity is O((n+b) * logb(k)).  \n",
    "    - For k <= nc where c is a constant and b=n, we get the time complexity as O(n). \n",
    "6. Disadvantages compared to quick sort: \n",
    "    - The constant factors hidden in asymptotic notation are higher for Radix Sort. \n",
    "    - Quick-Sort uses hardware caches more effectively.  \n",
    "    - Radix sort uses counting sort as a subroutine and counting sort takes extra space to sort numbers.\n",
    "7. **When to use**- When k<=nc, b=n  \n",
    "8. **When not to use**- When very few elements are very large.  "
   ]
  },
  {
   "cell_type": "code",
   "execution_count": 60,
   "metadata": {},
   "outputs": [
    {
     "name": "stdout",
     "output_type": "stream",
     "text": [
      "Array:  [170  45  75  90 802  24   2  66]\n",
      "exp =  1\n",
      "[170  90 802   2  24  45  75  66]\n",
      "exp =  10\n",
      "[802   2  24  45  66 170  75  90]\n",
      "exp =  100\n",
      "[  2  24  45  66  75  90 170 802]\n",
      "Sorted Array:  [  2  24  45  66  75  90 170 802]\n",
      "Time taken =  0.001865386962890625  sec\n"
     ]
    }
   ],
   "source": [
    "# Radix Sort\n",
    "def countSort(arr, exp):\n",
    "    N = len(arr)\n",
    "    freq = np.zeros(10).astype(int)\n",
    "    # Get frequency of exp position numbers\n",
    "    for i in range(N):\n",
    "        i_digit = int((arr[i]/exp)%10)\n",
    "        freq[i_digit] += 1\n",
    "    # Get cummulative frequency\n",
    "    for i in range(1, 10):\n",
    "        freq[i] += freq[i-1]\n",
    "    # sort array\n",
    "    arr_sorted = np.zeros_like(arr)\n",
    "    for i in range(N-1,-1,-1):\n",
    "        i_digit = int((arr[i]/exp)%10)\n",
    "        arr_sorted[freq[i_digit]-1] = arr[i]        \n",
    "        freq[i_digit] -= 1\n",
    "    print(arr_sorted)\n",
    "        \n",
    "    return arr_sorted\n",
    "\n",
    "def radixSort(arr):\n",
    "    max_value = np.max(arr)\n",
    "    exp = 1\n",
    "    while max_value/exp > 1:\n",
    "        print('exp = ',exp)\n",
    "        arr = countSort(arr, exp)\n",
    "        exp *= 10\n",
    "    return arr\n",
    "        \n",
    "arr = np.array(([170, 45, 75, 90, 802, 24, 2, 66]))\n",
    "print('Array: ', arr)\n",
    "t=time()\n",
    "arr_sorted = radixSort(arr)\n",
    "print('Sorted Array: ',arr_sorted)\n",
    "print('Time taken = ',time()-t,' sec')"
   ]
  },
  {
   "cell_type": "markdown",
   "metadata": {},
   "source": [
    "## Bucket Sort\n",
    "\n",
    "1. Radix cant be applied for floating numbers.  \n",
    "2. Bucket sort used for sorting floating numbers in linear time.  \n",
    "3. **Complexity**: \n",
    "    - Steps 1 and 2 = O(n)  \n",
    "    - Step 3 = O(n) on average if all numbers are uniformly distributed.  \n",
    "    - Step 4 = O(n)  \n",
    "4. **When to use**: mainly useful when input is uniformly distributed over a range.  \n",
    "5. **When not to use**: High skew in numbers distribution\n",
    "```\n",
    "bucketSort(arr[], n)\n",
    "1) Create n empty buckets (Or lists).\n",
    "2) Do following for every array element arr[i].\n",
    ".......a) Insert arr[i] into bucket[n*array[i]]\n",
    "3) Sort individual buckets using insertion sort.\n",
    "4) Concatenate all sorted buckets.\n",
    "```"
   ]
  },
  {
   "cell_type": "code",
   "execution_count": 69,
   "metadata": {},
   "outputs": [
    {
     "name": "stdout",
     "output_type": "stream",
     "text": [
      "Array:  [0.78 0.17 0.39 0.26 0.72 0.94 0.21 0.12 0.23 0.68]\n",
      "[[], [0.17, 0.12], [0.26, 0.21, 0.23], [0.39], [], [], [0.68], [0.78, 0.72], [], [0.94]]\n",
      "Sorted Array:  [0.12 0.17 0.21 0.23 0.26 0.39 0.68 0.72 0.78 0.94]\n",
      "Time taken =  0.0007402896881103516  sec\n"
     ]
    }
   ],
   "source": [
    "# Bucket Sort\n",
    "def insertSort(arr):\n",
    "    N = len(arr)\n",
    "    for i in range(1,N):\n",
    "        key = arr[i]\n",
    "        j = i-1\n",
    "        while(j>=0 and key<arr[j]):\n",
    "            arr[j+1] = arr[j]\n",
    "            j -= 1\n",
    "        arr[j+1] = key\n",
    "    \n",
    "def bucketSort(arr):\n",
    "    N = len(arr)\n",
    "    # Step 1: Create empty buckets\n",
    "    buckets = [[] for i in range(N)]\n",
    "    # Step 2: Insert elements into buckets\n",
    "    for i in range(N):\n",
    "        bucket_index = int(np.floor(N*arr[i]))\n",
    "        buckets[bucket_index].append(arr[i])\n",
    "    print(buckets)\n",
    "    # Step 3: Sort buckets\n",
    "    for i in range(N):\n",
    "        if len(buckets[i])>0:\n",
    "            insertSort(buckets[i])\n",
    "    # Step 4: Concatenate buckets\n",
    "    arr_sorted = []\n",
    "    for i in range(N):\n",
    "        arr_sorted += buckets[i]\n",
    "    return np.array(arr_sorted)\n",
    "        \n",
    "arr = np.array(([0.78, 0.17, 0.39, 0.26, 0.72, 0.94, 0.21, 0.12, 0.23, 0.68]))\n",
    "print('Array: ', arr)\n",
    "t=time()\n",
    "arr_sorted = bucketSort(arr)\n",
    "print('Sorted Array: ',arr_sorted)\n",
    "print('Time taken = ',time()-t,' sec')"
   ]
  }
 ],
 "metadata": {
  "kernelspec": {
   "display_name": "Python 3",
   "language": "python",
   "name": "python3"
  },
  "language_info": {
   "codemirror_mode": {
    "name": "ipython",
    "version": 3
   },
   "file_extension": ".py",
   "mimetype": "text/x-python",
   "name": "python",
   "nbconvert_exporter": "python",
   "pygments_lexer": "ipython3",
   "version": "3.5.5"
  }
 },
 "nbformat": 4,
 "nbformat_minor": 2
}
