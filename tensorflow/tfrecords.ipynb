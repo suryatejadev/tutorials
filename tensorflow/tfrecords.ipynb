{
 "cells": [
  {
   "cell_type": "code",
   "execution_count": 8,
   "metadata": {
    "collapsed": true
   },
   "outputs": [],
   "source": [
    "import tensorflow as tf\n",
    "import os\n",
    "from skimage.io import imread"
   ]
  },
  {
   "cell_type": "code",
   "execution_count": 5,
   "metadata": {},
   "outputs": [
    {
     "name": "stdout",
     "output_type": "stream",
     "text": [
      "(25, 25)\n"
     ]
    }
   ],
   "source": [
    "f_cats = os.listdir('data/cats/')\n",
    "f_dogs = os.listdir('data/dogs/')\n",
    "print(len(f_cats), len(f_dogs))"
   ]
  },
  {
   "cell_type": "code",
   "execution_count": 22,
   "metadata": {},
   "outputs": [
    {
     "name": "stderr",
     "output_type": "stream",
     "text": [
      "/home/surya/anaconda2/lib/python2.7/site-packages/skimage/transform/_warps.py:84: UserWarning: The default mode, 'constant', will be changed to 'reflect' in skimage 0.15.\n",
      "  warn(\"The default mode, 'constant', will be changed to 'reflect' in \"\n"
     ]
    }
   ],
   "source": [
    "import cv2\n",
    "import numpy as np\n",
    "from skimage.transform import resize\n",
    "\n",
    "outf_cats = 'tf_cats'\n",
    "if not os.path.exists(outf_cats):\n",
    "    os.mkdir(outf_cats)\n",
    "\n",
    "# Initialize a writer\n",
    "tfrec_fname = 'data.tfrecords'\n",
    "writer = tf.python_io.TFRecordWriter(tfrec_fname)\n",
    "\n",
    "for f in f_cats:\n",
    "    # Load image and label\n",
    "    img = imread('data/cats/'+f, as_gray=True)#.astype(np.uint8)\n",
    "    img = resize(img, (50,50))\n",
    "    #img = open('data/cats/'+f, 'rb').read()\n",
    "    img = cv2.imencode('.jpg', img)[1].tostring()\n",
    "    label = 0 if 'cat' in f else 1\n",
    "    # Create the feature dict\n",
    "    feature = {'label': tf.train.Feature(int64_list=tf.train.Int64List(value=[label])),\n",
    "              'image': tf.train.Feature(bytes_list=tf.train.BytesList(value=[img]))}\n",
    "    # Create an example protobuf\n",
    "    example = tf.train.Example(features=tf.train.Features(feature=feature))\n",
    "    # Write the serialized example\n",
    "    writer.write(example.SerializeToString())\n",
    "writer.close()"
   ]
  }
 ],
 "metadata": {
  "kernelspec": {
   "display_name": "Python 2",
   "language": "python",
   "name": "python2"
  },
  "language_info": {
   "codemirror_mode": {
    "name": "ipython",
    "version": 2
   },
   "file_extension": ".py",
   "mimetype": "text/x-python",
   "name": "python",
   "nbconvert_exporter": "python",
   "pygments_lexer": "ipython2",
   "version": "2.7.14"
  }
 },
 "nbformat": 4,
 "nbformat_minor": 2
}
